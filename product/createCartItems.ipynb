{
 "cells": [
  {
   "cell_type": "code",
   "execution_count": 1,
   "metadata": {},
   "outputs": [
    {
     "data": {
      "text/plain": [
       "'[{\"product_id\": \"fd9fcd46-d595-4f2e-9d1b-5976c8213286\", \"order_type\": \"e-book\"}, {\"product_id\": \"be578739-f78d-4f27-bad1-b3904b8be7ab\", \"order_type\": \"paper_book\"}, {\"product_id\": \"9da45465-998f-4c16-ab43-dca471bc1bb9\", \"order_type\": \"e-book\"}, {\"product_id\": \"c56f785d-1ee1-4a9b-8bc9-af818b98e301\", \"order_type\": \"paper_book\"}]'"
      ]
     },
     "execution_count": 1,
     "metadata": {},
     "output_type": "execute_result"
    }
   ],
   "source": [
    "from PDdbconnection import *\n",
    "import json\n",
    "db = Database(realDictCursor=True)\n",
    "a = [dict(product) for product in db.get_product_list()]\n",
    "db.db_close()\n",
    "cart = []\n",
    "for i in range(0,4):\n",
    "    if i %2 == 0:\n",
    "        cart.append({\"product_id\": a[i]['product_id'], \"order_type\": \"e-book\"})\n",
    "    else:\n",
    "        cart.append({\"product_id\": a[i]['product_id'], \"order_type\": \"paper_book\"})\n",
    "json.dumps(cart)"
   ]
  }
 ],
 "metadata": {
  "kernelspec": {
   "display_name": "Python 3.10.6 64-bit",
   "language": "python",
   "name": "python3"
  },
  "language_info": {
   "codemirror_mode": {
    "name": "ipython",
    "version": 3
   },
   "file_extension": ".py",
   "mimetype": "text/x-python",
   "name": "python",
   "nbconvert_exporter": "python",
   "pygments_lexer": "ipython3",
   "version": "3.10.6"
  },
  "orig_nbformat": 4,
  "vscode": {
   "interpreter": {
    "hash": "916dbcbb3f70747c44a77c7bcd40155683ae19c65e1c03b4aa3499c5328201f1"
   }
  }
 },
 "nbformat": 4,
 "nbformat_minor": 2
}
