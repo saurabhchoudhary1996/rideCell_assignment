{
 "cells": [
  {
   "cell_type": "code",
   "execution_count": 2,
   "metadata": {},
   "outputs": [
    {
     "data": {
      "text/plain": [
       "'[{\"product_id\": \"4b0c676e-9c4b-4a95-aac1-d57016ce098b\", \"order_type\": \"e-book\"}, {\"product_id\": \"01ecb9d2-dea1-4d29-98b6-148ae75742c3\", \"order_type\": \"paper_book\"}, {\"product_id\": \"f10c7edf-af34-40d2-aeb0-cd57027be6d0\", \"order_type\": \"e-book\"}, {\"product_id\": \"ea718724-5aff-4adc-a4d4-ca9ba1d6c7b1\", \"order_type\": \"paper_book\"}]'"
      ]
     },
     "execution_count": 2,
     "metadata": {},
     "output_type": "execute_result"
    }
   ],
   "source": [
    "from PDdbconnection import *\n",
    "import json\n",
    "db = Database(realDictCursor=True)\n",
    "a = [dict(product) for product in db.get_product_list()]\n",
    "db.db_close()\n",
    "cart = []\n",
    "for i in range(0,4):\n",
    "    if i %2 == 0:\n",
    "        cart.append({\"product_id\": a[i]['product_id'], \"order_type\": \"e-book\"})\n",
    "    else:\n",
    "        cart.append({\"product_id\": a[i]['product_id'], \"order_type\": \"paper_book\"})\n",
    "json.dumps(cart)"
   ]
  }
 ],
 "metadata": {
  "kernelspec": {
   "display_name": "Python 3.10.6 64-bit",
   "language": "python",
   "name": "python3"
  },
  "language_info": {
   "codemirror_mode": {
    "name": "ipython",
    "version": 3
   },
   "file_extension": ".py",
   "mimetype": "text/x-python",
   "name": "python",
   "nbconvert_exporter": "python",
   "pygments_lexer": "ipython3",
   "version": "3.10.6"
  },
  "orig_nbformat": 4,
  "vscode": {
   "interpreter": {
    "hash": "916dbcbb3f70747c44a77c7bcd40155683ae19c65e1c03b4aa3499c5328201f1"
   }
  }
 },
 "nbformat": 4,
 "nbformat_minor": 2
}
